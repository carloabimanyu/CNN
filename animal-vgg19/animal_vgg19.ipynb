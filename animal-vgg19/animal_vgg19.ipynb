{
  "nbformat": 4,
  "nbformat_minor": 0,
  "metadata": {
    "colab": {
      "name": "BPML Dicoding - Submission Akhir.ipynb",
      "provenance": [],
      "collapsed_sections": []
    },
    "kernelspec": {
      "name": "python3",
      "display_name": "Python 3"
    },
    "accelerator": "GPU"
  },
  "cells": [
    {
      "cell_type": "markdown",
      "metadata": {
        "id": "jMMpvyUiJc-c"
      },
      "source": [
        "Saya akan membuat model machine learning untuk masalah image processing sebagai submission akhir kelas Belajar Pengembangan Machine Learning. Pada submission kali ini saya akan menerapkan Transfer Learning dengan VGG19. Diakhir, model akan dikonversi menjadi TF-Lite untuk dapat di-deploy ke Android atau iOS."
      ]
    },
    {
      "cell_type": "code",
      "metadata": {
        "id": "xFjCSB9MIdlq",
        "colab": {
          "base_uri": "https://localhost:8080/",
          "height": 71
        },
        "outputId": "9d95c6f3-5914-41fc-94a3-425000aadcae"
      },
      "source": [
        "import zipfile, os\n",
        "import numpy as np\n",
        "import matplotlib.pyplot as plt\n",
        "import matplotlib.image as mpimg\n",
        "import seaborn as sns\n",
        "import tensorflow as tf\n",
        "from tensorflow.keras.preprocessing.image import ImageDataGenerator\n",
        "from tensorflow.keras.layers import Input\n",
        "from tensorflow.keras.applications import VGG19\n",
        "from tensorflow.keras.optimizers import Adamax\n",
        "from keras.preprocessing import image\n",
        "from google.colab import files\n",
        "%matplotlib inline\n",
        "sns.set()"
      ],
      "execution_count": null,
      "outputs": [
        {
          "output_type": "stream",
          "text": [
            "/usr/local/lib/python3.6/dist-packages/statsmodels/tools/_testing.py:19: FutureWarning: pandas.util.testing is deprecated. Use the functions in the public API at pandas.testing instead.\n",
            "  import pandas.util.testing as tm\n"
          ],
          "name": "stderr"
        }
      ]
    },
    {
      "cell_type": "markdown",
      "metadata": {
        "id": "agFaXQqnLu5I"
      },
      "source": [
        "Saya menggunakan dataset berisi gambar hewan (anjing, ayam, dan laba-laba) dengan resolusi berbeda-beda yang diunduh dari Kaggle."
      ]
    },
    {
      "cell_type": "code",
      "metadata": {
        "id": "yVqHoDAtLeW5"
      },
      "source": [
        "local_zip = '/content/drive/My Drive/dataset/chicken_dog_spider.zip'\n",
        "zip_ref = zipfile.ZipFile(local_zip, 'r')\n",
        "zip_ref.extractall('/tmp/chicken_dog_spider/')\n",
        "zip_ref.close()"
      ],
      "execution_count": null,
      "outputs": []
    },
    {
      "cell_type": "code",
      "metadata": {
        "id": "UwOnl5jnMhSh"
      },
      "source": [
        "base_dir = '/tmp/chicken_dog_spider/'"
      ],
      "execution_count": null,
      "outputs": []
    },
    {
      "cell_type": "markdown",
      "metadata": {
        "id": "GZ66ksvyiDHn"
      },
      "source": [
        "Saya menerapkan ImageDataGenerator seperti yang diajarkan pada kelas Belajar Machine Learning untuk Pemula di Dicoding."
      ]
    },
    {
      "cell_type": "code",
      "metadata": {
        "id": "m7A_55O7M_7G"
      },
      "source": [
        "img_datagen = ImageDataGenerator(\n",
        "        rotation_range=20,\n",
        "        width_shift_range=0.2,\n",
        "        height_shift_range=0.2,\n",
        "        shear_range=0.2,\n",
        "        zoom_range=0.2,\n",
        "        fill_mode='nearest',\n",
        "        horizontal_flip=True,\n",
        "        vertical_flip=True,\n",
        "        rescale=1./255,\n",
        "        validation_split=0.3)"
      ],
      "execution_count": null,
      "outputs": []
    },
    {
      "cell_type": "code",
      "metadata": {
        "id": "-QxOGW3INFEo",
        "colab": {
          "base_uri": "https://localhost:8080/",
          "height": 51
        },
        "outputId": "be1cac2b-b4f0-4f78-92be-77dcf4b6f256"
      },
      "source": [
        "train_datagen = img_datagen.flow_from_directory(\n",
        "        base_dir,\n",
        "        target_size=(150, 150),\n",
        "        class_mode='categorical',\n",
        "        batch_size=16)\n",
        "\n",
        "test_datagen = img_datagen.flow_from_directory(\n",
        "        base_dir,\n",
        "        target_size=(150, 150),\n",
        "        class_mode='categorical',\n",
        "        batch_size=16,\n",
        "        subset='validation')"
      ],
      "execution_count": null,
      "outputs": [
        {
          "output_type": "stream",
          "text": [
            "Found 12782 images belonging to 3 classes.\n",
            "Found 3833 images belonging to 3 classes.\n"
          ],
          "name": "stdout"
        }
      ]
    },
    {
      "cell_type": "markdown",
      "metadata": {
        "id": "E2fPCycKiRcC"
      },
      "source": [
        "Selanjutnya saya menerapkan callbacks dengan batas akurasi lebih dari atau sama dengan 92% pada training dan validation accuracy."
      ]
    },
    {
      "cell_type": "code",
      "metadata": {
        "id": "gkU9uapJNL1E"
      },
      "source": [
        "class myCallback(tf.keras.callbacks.Callback):\n",
        "    def on_epoch_end(self, epoch, logs={}):\n",
        "        if(logs.get('accuracy') >= 0.92 and logs.get('val_accuracy') >= 0.92):\n",
        "          print('\\naccuracy dan val_accuracy telah mencapai 92%.')\n",
        "          self.model.stop_training = True\n",
        "callbacks = myCallback()"
      ],
      "execution_count": null,
      "outputs": []
    },
    {
      "cell_type": "markdown",
      "metadata": {
        "id": "iS7ol_qVibYN"
      },
      "source": [
        "Berikut adalah arsitektur yang dibuat."
      ]
    },
    {
      "cell_type": "code",
      "metadata": {
        "id": "ZBQO4POwNaF3",
        "colab": {
          "base_uri": "https://localhost:8080/",
          "height": 51
        },
        "outputId": "da17c01b-7f87-4879-bb1c-bb0c67bec647"
      },
      "source": [
        "model = tf.keras.models.Sequential([\n",
        "    VGG19(weights=\"imagenet\", include_top=False, input_tensor=Input(shape=(150, 150, 3))),\n",
        "    tf.keras.layers.Conv2D(32, (3,3), activation='relu'),\n",
        "    tf.keras.layers.MaxPooling2D(2, 2),\n",
        "    tf.keras.layers.Flatten(),\n",
        "    tf.keras.layers.Dense(64, activation='relu'),\n",
        "    tf.keras.layers.Dense(3, activation='softmax')\n",
        "])"
      ],
      "execution_count": null,
      "outputs": [
        {
          "output_type": "stream",
          "text": [
            "Downloading data from https://storage.googleapis.com/tensorflow/keras-applications/vgg19/vgg19_weights_tf_dim_ordering_tf_kernels_notop.h5\n",
            "80142336/80134624 [==============================] - 1s 0us/step\n"
          ],
          "name": "stdout"
        }
      ]
    },
    {
      "cell_type": "code",
      "metadata": {
        "id": "C0Gq3l6aNrr1"
      },
      "source": [
        "model.layers[0].trainable = False"
      ],
      "execution_count": null,
      "outputs": []
    },
    {
      "cell_type": "code",
      "metadata": {
        "id": "MiwVz-rwNzzK",
        "colab": {
          "base_uri": "https://localhost:8080/",
          "height": 357
        },
        "outputId": "f7c7b475-73ef-4189-dc33-041a89dfa005"
      },
      "source": [
        "model.summary()"
      ],
      "execution_count": null,
      "outputs": [
        {
          "output_type": "stream",
          "text": [
            "Model: \"sequential\"\n",
            "_________________________________________________________________\n",
            "Layer (type)                 Output Shape              Param #   \n",
            "=================================================================\n",
            "vgg19 (Functional)           (None, 4, 4, 512)         20024384  \n",
            "_________________________________________________________________\n",
            "conv2d (Conv2D)              (None, 2, 2, 32)          147488    \n",
            "_________________________________________________________________\n",
            "max_pooling2d (MaxPooling2D) (None, 1, 1, 32)          0         \n",
            "_________________________________________________________________\n",
            "flatten (Flatten)            (None, 32)                0         \n",
            "_________________________________________________________________\n",
            "dense (Dense)                (None, 64)                2112      \n",
            "_________________________________________________________________\n",
            "dense_1 (Dense)              (None, 3)                 195       \n",
            "=================================================================\n",
            "Total params: 20,174,179\n",
            "Trainable params: 149,795\n",
            "Non-trainable params: 20,024,384\n",
            "_________________________________________________________________\n"
          ],
          "name": "stdout"
        }
      ]
    },
    {
      "cell_type": "code",
      "metadata": {
        "id": "2siENcLEN2Pf"
      },
      "source": [
        "model.compile(optimizer=Adamax(learning_rate=0.0015), loss='categorical_crossentropy', metrics=['accuracy'])"
      ],
      "execution_count": null,
      "outputs": []
    },
    {
      "cell_type": "code",
      "metadata": {
        "id": "eUq1N0O3Pewh",
        "colab": {
          "base_uri": "https://localhost:8080/",
          "height": 1000
        },
        "outputId": "365b4bf0-4675-44d1-df81-54aeee8b7ed2"
      },
      "source": [
        "history = model.fit(train_datagen, validation_data=test_datagen, epochs=100, verbose=1, callbacks=[callbacks])"
      ],
      "execution_count": null,
      "outputs": [
        {
          "output_type": "stream",
          "text": [
            "Epoch 1/100\n",
            "799/799 [==============================] - 121s 152ms/step - loss: 0.4348 - accuracy: 0.8156 - val_loss: 0.3344 - val_accuracy: 0.8682\n",
            "Epoch 2/100\n",
            "799/799 [==============================] - 118s 147ms/step - loss: 0.3468 - accuracy: 0.8600 - val_loss: 0.3423 - val_accuracy: 0.8555\n",
            "Epoch 3/100\n",
            "799/799 [==============================] - 115s 144ms/step - loss: 0.3191 - accuracy: 0.8719 - val_loss: 0.3120 - val_accuracy: 0.8766\n",
            "Epoch 4/100\n",
            "799/799 [==============================] - 117s 147ms/step - loss: 0.3068 - accuracy: 0.8783 - val_loss: 0.2674 - val_accuracy: 0.8928\n",
            "Epoch 5/100\n",
            "799/799 [==============================] - 115s 144ms/step - loss: 0.2935 - accuracy: 0.8830 - val_loss: 0.3172 - val_accuracy: 0.8677\n",
            "Epoch 6/100\n",
            "799/799 [==============================] - 115s 143ms/step - loss: 0.2850 - accuracy: 0.8832 - val_loss: 0.3025 - val_accuracy: 0.8763\n",
            "Epoch 7/100\n",
            "799/799 [==============================] - 114s 143ms/step - loss: 0.2757 - accuracy: 0.8887 - val_loss: 0.2684 - val_accuracy: 0.8894\n",
            "Epoch 8/100\n",
            "799/799 [==============================] - 112s 141ms/step - loss: 0.2686 - accuracy: 0.8945 - val_loss: 0.2582 - val_accuracy: 0.8977\n",
            "Epoch 9/100\n",
            "799/799 [==============================] - 112s 140ms/step - loss: 0.2731 - accuracy: 0.8937 - val_loss: 0.2460 - val_accuracy: 0.9027\n",
            "Epoch 10/100\n",
            "799/799 [==============================] - 111s 139ms/step - loss: 0.2645 - accuracy: 0.8941 - val_loss: 0.2720 - val_accuracy: 0.8907\n",
            "Epoch 11/100\n",
            "799/799 [==============================] - 111s 139ms/step - loss: 0.2602 - accuracy: 0.8972 - val_loss: 0.2532 - val_accuracy: 0.9001\n",
            "Epoch 12/100\n",
            "799/799 [==============================] - 111s 139ms/step - loss: 0.2579 - accuracy: 0.8985 - val_loss: 0.2429 - val_accuracy: 0.9058\n",
            "Epoch 13/100\n",
            "799/799 [==============================] - 113s 141ms/step - loss: 0.2540 - accuracy: 0.8998 - val_loss: 0.2295 - val_accuracy: 0.9095\n",
            "Epoch 14/100\n",
            "799/799 [==============================] - 112s 140ms/step - loss: 0.2471 - accuracy: 0.9017 - val_loss: 0.2398 - val_accuracy: 0.9066\n",
            "Epoch 15/100\n",
            "799/799 [==============================] - 111s 139ms/step - loss: 0.2467 - accuracy: 0.9008 - val_loss: 0.2150 - val_accuracy: 0.9129\n",
            "Epoch 16/100\n",
            "799/799 [==============================] - 111s 139ms/step - loss: 0.2468 - accuracy: 0.9028 - val_loss: 0.2268 - val_accuracy: 0.9097\n",
            "Epoch 17/100\n",
            "799/799 [==============================] - 111s 139ms/step - loss: 0.2403 - accuracy: 0.9046 - val_loss: 0.2423 - val_accuracy: 0.9056\n",
            "Epoch 18/100\n",
            "799/799 [==============================] - 111s 139ms/step - loss: 0.2422 - accuracy: 0.9053 - val_loss: 0.2433 - val_accuracy: 0.8990\n",
            "Epoch 19/100\n",
            "799/799 [==============================] - 111s 139ms/step - loss: 0.2378 - accuracy: 0.9094 - val_loss: 0.2019 - val_accuracy: 0.9186\n",
            "Epoch 20/100\n",
            "799/799 [==============================] - 111s 139ms/step - loss: 0.2338 - accuracy: 0.9086 - val_loss: 0.2089 - val_accuracy: 0.9220\n",
            "Epoch 21/100\n",
            "799/799 [==============================] - 110s 138ms/step - loss: 0.2286 - accuracy: 0.9098 - val_loss: 0.2266 - val_accuracy: 0.9136\n",
            "Epoch 22/100\n",
            "799/799 [==============================] - 111s 139ms/step - loss: 0.2290 - accuracy: 0.9101 - val_loss: 0.1969 - val_accuracy: 0.9272\n",
            "Epoch 23/100\n",
            "799/799 [==============================] - 111s 139ms/step - loss: 0.2343 - accuracy: 0.9050 - val_loss: 0.2087 - val_accuracy: 0.9183\n",
            "Epoch 24/100\n",
            "799/799 [==============================] - 111s 139ms/step - loss: 0.2290 - accuracy: 0.9105 - val_loss: 0.2405 - val_accuracy: 0.9048\n",
            "Epoch 25/100\n",
            "799/799 [==============================] - 111s 139ms/step - loss: 0.2302 - accuracy: 0.9078 - val_loss: 0.2068 - val_accuracy: 0.9223\n",
            "Epoch 26/100\n",
            "799/799 [==============================] - 111s 139ms/step - loss: 0.2165 - accuracy: 0.9164 - val_loss: 0.2158 - val_accuracy: 0.9155\n",
            "Epoch 27/100\n",
            "799/799 [==============================] - 111s 139ms/step - loss: 0.2183 - accuracy: 0.9143 - val_loss: 0.1976 - val_accuracy: 0.9228\n",
            "Epoch 28/100\n",
            "799/799 [==============================] - 111s 138ms/step - loss: 0.2210 - accuracy: 0.9134 - val_loss: 0.2305 - val_accuracy: 0.9082\n",
            "Epoch 29/100\n",
            "799/799 [==============================] - 110s 138ms/step - loss: 0.2159 - accuracy: 0.9155 - val_loss: 0.1943 - val_accuracy: 0.9225\n",
            "Epoch 30/100\n",
            "799/799 [==============================] - 110s 138ms/step - loss: 0.2188 - accuracy: 0.9116 - val_loss: 0.1973 - val_accuracy: 0.9256\n",
            "Epoch 31/100\n",
            "799/799 [==============================] - 110s 138ms/step - loss: 0.2185 - accuracy: 0.9120 - val_loss: 0.2408 - val_accuracy: 0.9048\n",
            "Epoch 32/100\n",
            "799/799 [==============================] - 110s 138ms/step - loss: 0.2219 - accuracy: 0.9115 - val_loss: 0.2151 - val_accuracy: 0.9126\n",
            "Epoch 33/100\n",
            "799/799 [==============================] - 110s 138ms/step - loss: 0.2179 - accuracy: 0.9150 - val_loss: 0.1903 - val_accuracy: 0.9267\n",
            "Epoch 34/100\n",
            "799/799 [==============================] - 111s 139ms/step - loss: 0.2156 - accuracy: 0.9137 - val_loss: 0.1994 - val_accuracy: 0.9189\n",
            "Epoch 35/100\n",
            "799/799 [==============================] - 110s 138ms/step - loss: 0.2122 - accuracy: 0.9166 - val_loss: 0.2222 - val_accuracy: 0.9097\n",
            "Epoch 36/100\n",
            "799/799 [==============================] - 110s 138ms/step - loss: 0.2133 - accuracy: 0.9164 - val_loss: 0.2049 - val_accuracy: 0.9186\n",
            "Epoch 37/100\n",
            "799/799 [==============================] - 110s 138ms/step - loss: 0.2070 - accuracy: 0.9189 - val_loss: 0.1965 - val_accuracy: 0.9202\n",
            "Epoch 38/100\n",
            "799/799 [==============================] - ETA: 0s - loss: 0.1998 - accuracy: 0.9222\n",
            "accuracy dan val_accuracy telah mencapai 92%.\n",
            "799/799 [==============================] - 111s 139ms/step - loss: 0.1998 - accuracy: 0.9222 - val_loss: 0.1996 - val_accuracy: 0.9251\n"
          ],
          "name": "stdout"
        }
      ]
    },
    {
      "cell_type": "code",
      "metadata": {
        "id": "iTvOy6wNPnsV",
        "colab": {
          "base_uri": "https://localhost:8080/",
          "height": 284
        },
        "outputId": "9f60f03b-f134-4fa6-f9ac-db8164196228"
      },
      "source": [
        "plot_loss = [history.history['loss'], history.history['val_loss']]\n",
        "plt.plot(range(len(plot_loss[0])), plot_loss[0], label='Training loss')\n",
        "plt.plot(range(len(plot_loss[1])), plot_loss[1], label='Validation loss')\n",
        "plt.title('Loss')\n",
        "plt.grid(True)\n",
        "plt.legend()\n",
        "plt.show()"
      ],
      "execution_count": null,
      "outputs": [
        {
          "output_type": "display_data",
          "data": {
            "image/png": "[encoded data removed]",
            "text/plain": [
              "<Figure size 432x288 with 1 Axes>"
            ]
          },
          "metadata": {
            "tags": [],
            "needs_background": "light"
          }
        }
      ]
    },
    {
      "cell_type": "code",
      "metadata": {
        "id": "6C6ZGu0MhDdO",
        "colab": {
          "base_uri": "https://localhost:8080/",
          "height": 284
        },
        "outputId": "59c77923-e260-4474-9707-5081995d5295"
      },
      "source": [
        "plot_loss = [history.history['accuracy'], history.history['val_accuracy']]\n",
        "plt.plot(range(len(plot_loss[0])), plot_loss[0], label='Training accuracy')\n",
        "plt.plot(range(len(plot_loss[1])), plot_loss[1], label='Validation accuracy')\n",
        "plt.title('Accuracy')\n",
        "plt.grid(True)\n",
        "plt.legend()\n",
        "plt.show()"
      ],
      "execution_count": null,
      "outputs": [
        {
          "output_type": "display_data",
          "data": {
            "image/png": "[encoded data removed]",
            "text/plain": [
              "<Figure size 432x288 with 1 Axes>"
            ]
          },
          "metadata": {
            "tags": [],
            "needs_background": "light"
          }
        }
      ]
    },
    {
      "cell_type": "markdown",
      "metadata": {
        "id": "U29ipkwBiggt"
      },
      "source": [
        "Terakhir, saya akan mengkonversi model menjadi format TF-Lite seperti yang diajarkan pada modul."
      ]
    },
    {
      "cell_type": "code",
      "metadata": {
        "id": "C04y166ohJ6E",
        "colab": {
          "base_uri": "https://localhost:8080/",
          "height": 156
        },
        "outputId": "f4d90aa1-944f-499e-dec9-297516376c48"
      },
      "source": [
        "converter = tf.lite.TFLiteConverter.from_keras_model(model)\n",
        "tflite_model = converter.convert()"
      ],
      "execution_count": null,
      "outputs": [
        {
          "output_type": "stream",
          "text": [
            "WARNING:tensorflow:From /usr/local/lib/python3.6/dist-packages/tensorflow/python/training/tracking/tracking.py:111: Model.state_updates (from tensorflow.python.keras.engine.training) is deprecated and will be removed in a future version.\n",
            "Instructions for updating:\n",
            "This property should not be used in TensorFlow 2.0, as updates are applied automatically.\n",
            "WARNING:tensorflow:From /usr/local/lib/python3.6/dist-packages/tensorflow/python/training/tracking/tracking.py:111: Layer.updates (from tensorflow.python.keras.engine.base_layer) is deprecated and will be removed in a future version.\n",
            "Instructions for updating:\n",
            "This property should not be used in TensorFlow 2.0, as updates are applied automatically.\n",
            "INFO:tensorflow:Assets written to: /tmp/tmpruww2i40/assets\n"
          ],
          "name": "stdout"
        }
      ]
    },
    {
      "cell_type": "code",
      "metadata": {
        "id": "mCuUg5QBhig_"
      },
      "source": [
        "with tf.io.gfile.GFile('model.tflite', 'wb') as f:\n",
        "    f.write(tflite_model)"
      ],
      "execution_count": null,
      "outputs": []
    }
  ]
}